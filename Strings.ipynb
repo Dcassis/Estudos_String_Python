{
 "cells": [
  {
   "cell_type": "markdown",
   "id": "2b04bbea",
   "metadata": {},
   "source": [
    "# Strings\n",
    "\n",
    "<span style=\"color: red;\"><b>Todos os exercícios são feitos partindo-se do pressuposto de que todas as entradas são dadas de forma correta. Casos limite não mencionados no enunciado não são abordados porque não fazem parte do exercício.</b></span>"
   ]
  },
  {
   "cell_type": "markdown",
   "id": "5b1f33b9",
   "metadata": {},
   "source": [
    "#### 1. Tamanho de strings. Faça um programa que leia 2 strings e informe o conteúdo delas seguido do seu comprimento. Informe também se as duas strings possuem o mesmo comprimento e são iguais ou diferentes no conteúdo.\n",
    "<pre>\n",
    "Compara duas strings\n",
    "String 1: Brasil Hexa 2006\n",
    "String 2: Brasil! Hexa 2006!\n",
    "Tamanho de \"Brasil Hexa 2006\": 16 caracteres\n",
    "Tamanho de \"Brasil! Hexa 2006!\": 18 caracteres\n",
    "As duas strings são de tamanhos diferentes.\n",
    "As duas strings possuem conteúdo diferente.\n",
    "</pre>"
   ]
  },
  {
   "cell_type": "code",
   "execution_count": 46,
   "id": "c492b657",
   "metadata": {},
   "outputs": [
    {
     "name": "stdout",
     "output_type": "stream",
     "text": [
      "Vamos comparar as strangs abaixo:\n",
      "A string 1:  \"asdfasd\" possue 7 caracteres\n",
      "A string 2: \"asdfasd\" possue 7 caracteres\n",
      "As duas strings têm tamanhos iguais\n",
      "O conteúdo das strings são idênticos\n"
     ]
    }
   ],
   "source": [
    "s1 = input(\"String 1: \")\n",
    "s2 = input(\"String 2: \")\n",
    "\n",
    "print(\"Vamos comparar as strangs abaixo:\")\n",
    "\n",
    "print(f'A string 1:  \"{s1}\" possue {len(s1)} caracteres')\n",
    "print(f'A string 2: \"{s2}\" possue {len(s2)} caracteres')\n",
    "\n",
    "if len(s1) == len(s2):\n",
    "    print(\"As duas strings têm tamanhos iguais\")\n",
    "else:\n",
    "    print(\"As strings possuem tamanhos diferentes\")\n",
    "    \n",
    "if s1 == s2:\n",
    "    print(\"O conteúdo das strings são idênticos\")\n",
    "else:\n",
    "    print(\"Os conteúdos são diferentes\")\n"
   ]
  },
  {
   "cell_type": "markdown",
   "id": "c3068a53",
   "metadata": {},
   "source": [
    "#### 2. Valida e corrige número de telefone. Faça um programa que leia um número de telefone, e corrija o número no caso deste conter somente 7 dígitos, acrescentando o '3' na frente. O usuário pode informar o número com ou sem o traço separador.\n",
    "<pre>\n",
    "Valida e corrige número de telefone\n",
    "Telefone: 461-0133\n",
    "Telefone possui 7 dígitos. Vou acrescentar o digito três na frente.\n",
    "Telefone corrigido sem formatação: 34610133\n",
    "Telefone corrigido com formatação: 3461-0133\n",
    "</pre>"
   ]
  },
  {
   "cell_type": "code",
   "execution_count": 13,
   "id": "0308566d",
   "metadata": {},
   "outputs": [
    {
     "name": "stdout",
     "output_type": "stream",
     "text": [
      "Vamos validar o número do telefone...\n",
      "Telefone sem formatação 231-8937\n",
      "Telefone corrigido com formatação: 3231-8937\n",
      "Telefone inicialmente com 7 dígitos, foi adicionado o dígito 3.\n",
      "Fim da validação.\n"
     ]
    }
   ],
   "source": [
    "telefone = input(\"Digite o número do seu telefone: \")\n",
    "print(\"Vamos validar o número do telefone...\")\n",
    "\n",
    "if \"-\" in telefone and len(telefone) == 9:\n",
    "    print(f\"Telefone com formatação {telefone}\")\n",
    "    print(f\"Telefone sem formatação {telefone[:4]}{telefone[-4:]}\")\n",
    "    print(\"Fim da validação\")\n",
    "elif len(telefone) == 8 and telefone.isnumeric():\n",
    "    print(f\"Telefone sem formatação: {telefone}\")\n",
    "    print(f\"Telefone com formatação {telefone[:4]}-{telefone[-4:]}\")\n",
    "    print(\"Telefone estava com 8 dígitos mas sem formtação, adicionamos o (-).\")\n",
    "    print(\"Fim da validação.\")\n",
    "elif \"-\" in telefone and len(telefone) == 8:\n",
    "    print(f\"Telefone sem formatação {telefone}\")\n",
    "    print(f\"Telefone corrigido com formatação: 3{telefone}\")\n",
    "    print(\"Telefone inicialmente com 7 dígitos, foi adicionado o dígito 3.\")\n",
    "    print(\"Fim da validação.\")\n",
    "elif len(telefone)== 7:\n",
    "    print(f\"Telefone corrigido sem formatação: 3{telefone}\")\n",
    "    print(f\"Telefone corrigido com formatação: 3{telefone[:3]}-{telefone[-4:]}\")\n",
    "    print(\"Telefone estava com 7 dígitos e sem formtação, adicionado o 3 e o (-).\")\n",
    "    print(\"Fim da validação.\")\n",
    "else:\n",
    "    print(\"Digite um número de telefone válido!\")    \n",
    "    print(\"Fim da validação!\")"
   ]
  }
 ],
 "metadata": {
  "kernelspec": {
   "display_name": "Python 3 (ipykernel)",
   "language": "python",
   "name": "python3"
  },
  "language_info": {
   "codemirror_mode": {
    "name": "ipython",
    "version": 3
   },
   "file_extension": ".py",
   "mimetype": "text/x-python",
   "name": "python",
   "nbconvert_exporter": "python",
   "pygments_lexer": "ipython3",
   "version": "3.12.3"
  }
 },
 "nbformat": 4,
 "nbformat_minor": 5
}
