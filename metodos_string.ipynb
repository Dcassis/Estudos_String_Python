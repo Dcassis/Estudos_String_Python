{
 "cells": [
  {
   "cell_type": "markdown",
   "metadata": {},
   "source": [
    "PRINCIPAIS MÉTODOS (FÓRMULAS DE TEXTO) DE STRING NO PYTHON:\n",
    ".capitaliza() -> primeira letra maiúscula\n",
    ".casefold() -> transforma todas as letras em minúsculas (existe também o .lower())\n"
   ]
  },
  {
   "cell_type": "markdown",
   "metadata": {},
   "source": [
    "USO DO .CAPITALIZE() -> PRIMEIRA LETRA MAIÚSCULA"
   ]
  },
  {
   "cell_type": "code",
   "execution_count": 3,
   "metadata": {},
   "outputs": [
    {
     "name": "stdout",
     "output_type": "stream",
     "text": [
      "Daniel\n",
      "Daniel\n"
     ]
    }
   ],
   "source": [
    "texto = 'daniel'\n",
    "print(texto.capitalize())\n",
    "print('daniel'.capitalize())"
   ]
  },
  {
   "cell_type": "markdown",
   "metadata": {},
   "source": [
    "Uso do casefold() -> Transforma todas as letras em minúsculas. \n",
    "Existe também o lower(), mas o casefold() é MAIS UTILIZADO. "
   ]
  },
  {
   "cell_type": "code",
   "execution_count": 4,
   "metadata": {},
   "outputs": [
    {
     "name": "stdout",
     "output_type": "stream",
     "text": [
      "o rato é de roma\n"
     ]
    }
   ],
   "source": [
    "texto2 = \"O Rato é De Roma\"\n",
    "print(texto2.casefold())"
   ]
  },
  {
   "cell_type": "markdown",
   "metadata": {},
   "source": [
    "USO DO COUNT() -> quantidade de vezes que um valor aparece na string"
   ]
  },
  {
   "cell_type": "code",
   "execution_count": 12,
   "metadata": {},
   "outputs": [
    {
     "name": "stdout",
     "output_type": "stream",
     "text": [
      "5\n",
      "3\n"
     ]
    }
   ],
   "source": [
    "pessoa = 'Ana Terra Campos Bourbon Carvalho'\n",
    "email = \"dc.assis@yahoo.com.br\"\n",
    "print(pessoa.count('a'))\n",
    "print(email.count(\".\"))"
   ]
  },
  {
   "cell_type": "markdown",
   "metadata": {},
   "source": [
    "USO DO ENDSWITH() -> verifica se o texto termina com valor específico e retorna se é TRUE ou FALSE\n",
    "Utilizado para fazer comparações ou verificações"
   ]
  },
  {
   "cell_type": "code",
   "execution_count": 11,
   "metadata": {},
   "outputs": [
    {
     "name": "stdout",
     "output_type": "stream",
     "text": [
      "True\n",
      "False\n"
     ]
    }
   ],
   "source": [
    "email = 'dc.assis@yahoo.com.br'\n",
    "print(email.endswith('br'))\n",
    "print(email.endswith('com')) #ARGUMENTO - é a informação que se precisa passar dentro de um método para a função funcionar\n"
   ]
  },
  {
   "cell_type": "markdown",
   "metadata": {},
   "source": [
    "USO DO FIND() -> procura um texto dentro de outro texto e retorna a posição"
   ]
  },
  {
   "cell_type": "code",
   "execution_count": 14,
   "metadata": {},
   "outputs": [
    {
     "name": "stdout",
     "output_type": "stream",
     "text": [
      "8\n",
      "9\n"
     ]
    }
   ],
   "source": [
    "print(email.find('@'))\n",
    "print(email.find('yahoo'))"
   ]
  },
  {
   "cell_type": "markdown",
   "metadata": {},
   "source": [
    "USO DO .FORTMAT() - formata uma string de acordo com os valores passados. "
   ]
  },
  {
   "cell_type": "code",
   "execution_count": 18,
   "metadata": {},
   "outputs": [
    {
     "name": "stdout",
     "output_type": "stream",
     "text": [
      "Amanhã será um lindo dia\n",
      "O faturamento da loja foi R$ 1000\n"
     ]
    }
   ],
   "source": [
    "faturamento = 1000\n",
    "print(\"O faturamento da loja foi R$ {}\".format(faturamento))"
   ]
  },
  {
   "cell_type": "markdown",
   "metadata": {},
   "source": [
    "USO DOS MÉTODOS:\n",
    "    -> isalnum() - verifica se o texto é todo feito por caracteres alfanuméricos\n",
    "    -> isalpha() - verifica o texto é todo feito por letras\n",
    "    -> isanumeric() - veriffica se o texto é todo feito de números"
   ]
  },
  {
   "cell_type": "code",
   "execution_count": 26,
   "metadata": {},
   "outputs": [
    {
     "name": "stdout",
     "output_type": "stream",
     "text": [
      "True\n",
      "True\n",
      "True\n"
     ]
    }
   ],
   "source": [
    "senha = \"18782Efdjk\"\n",
    "classificacao = '12'\n",
    "bairro = 'Luzia'\n",
    "\n",
    "print(senha.isalnum())\n",
    "print(bairro.isalpha())\n",
    "print(classificacao.isnumeric())\n"
   ]
  },
  {
   "cell_type": "markdown",
   "metadata": {},
   "source": [
    "USO DO REPLACE() -> TROCA UM TEXTO POR OUTRO\n",
    "Primeiro informa o texto que irá retirar (\"retirar\", \"substituir\") e depois o texto a substituir"
   ]
  },
  {
   "cell_type": "code",
   "execution_count": 29,
   "metadata": {},
   "outputs": [
    {
     "name": "stdout",
     "output_type": "stream",
     "text": [
      "1000,00\n",
      "Um novo dia\n"
     ]
    }
   ],
   "source": [
    "texto = '1000.00'\n",
    "frase = \"Um novo tempo\"\n",
    "print(texto.replace(\".\", \",\"))\n",
    "print(frase.replace(\"tempo\", \"dia\"))"
   ]
  },
  {
   "cell_type": "markdown",
   "metadata": {},
   "source": [
    "USO do SPLIT() -> SEPARA UMA STRING de acordo com delimitador em textos diferentes"
   ]
  },
  {
   "cell_type": "code",
   "execution_count": 30,
   "metadata": {},
   "outputs": [
    {
     "name": "stdout",
     "output_type": "stream",
     "text": [
      "['dc.assis', 'yahoo.com.br']\n"
     ]
    }
   ],
   "source": [
    "texto = \"dc.assis@yahoo.com.br\"\n",
    "print(texto.split(\"@\"))"
   ]
  },
  {
   "cell_type": "markdown",
   "metadata": {},
   "source": [
    "USO DO SPLITLINES() -> SEPARA UM TEXTO EM VÁRIOS TEXTOS DE ACORDO COM OS \"ENTERES\"DO TEXTO"
   ]
  },
  {
   "cell_type": "code",
   "execution_count": 31,
   "metadata": {},
   "outputs": [
    {
     "name": "stdout",
     "output_type": "stream",
     "text": [
      "['Olá bom dia', 'Venho por meio desse e-mail informar o faturamento da loja no dia de hoje.', 'Faturamento = R$ 2.500,00']\n"
     ]
    }
   ],
   "source": [
    "texto ='''Olá bom dia\n",
    "Venho por meio desse e-mail informar o faturamento da loja no dia de hoje.\n",
    "Faturamento = R$ 2.500,00\n",
    "'''\n",
    "\n",
    "print(texto.splitlines())"
   ]
  },
  {
   "cell_type": "markdown",
   "metadata": {},
   "source": [
    "USO DO STARTSWITH() -> VERIFICA SE A STRING COMEÇA COM DETERMINADO TEXTO."
   ]
  },
  {
   "cell_type": "code",
   "execution_count": 33,
   "metadata": {},
   "outputs": [
    {
     "name": "stdout",
     "output_type": "stream",
     "text": [
      "False\n",
      "True\n"
     ]
    }
   ],
   "source": [
    "codigo = 'BED127878'\n",
    "print(codigo.startswith('BEB'))\n",
    "print(codigo.startswith('BED'))"
   ]
  },
  {
   "cell_type": "markdown",
   "metadata": {},
   "source": [
    "USO DO STRIP() -> retira caracteres indesejados do texto. Por padrão \"extras\" no início e no final."
   ]
  },
  {
   "cell_type": "code",
   "execution_count": 40,
   "metadata": {},
   "outputs": [
    {
     "name": "stdout",
     "output_type": "stream",
     "text": [
      "BEB121212\n"
     ]
    }
   ],
   "source": [
    "texto = \"  BEB121212 \"\n",
    "print(texto.strip(\" \"))"
   ]
  },
  {
   "cell_type": "markdown",
   "metadata": {},
   "source": [
    "USO DO TITLE() -> coloca a primeira letra como maiúscula em cada palavra."
   ]
  },
  {
   "cell_type": "code",
   "execution_count": 41,
   "metadata": {},
   "outputs": [
    {
     "name": "stdout",
     "output_type": "stream",
     "text": [
      "Bom Dia, Senhores(As)\n"
     ]
    }
   ],
   "source": [
    "saudacao = 'bom dia, senhores(as)'\n",
    "print(saudacao.title())"
   ]
  },
  {
   "cell_type": "markdown",
   "metadata": {},
   "source": [
    "USO DO UPPER() -> COLOCA TODO O TEXTO EM MAIÚSCULO "
   ]
  },
  {
   "cell_type": "code",
   "execution_count": 42,
   "metadata": {},
   "outputs": [
    {
     "name": "stdout",
     "output_type": "stream",
     "text": [
      "BOM DIA, SENHORES(AS)\n"
     ]
    }
   ],
   "source": [
    "print(saudacao.upper())"
   ]
  }
 ],
 "metadata": {
  "kernelspec": {
   "display_name": ".venv",
   "language": "python",
   "name": "python3"
  },
  "language_info": {
   "codemirror_mode": {
    "name": "ipython",
    "version": 3
   },
   "file_extension": ".py",
   "mimetype": "text/x-python",
   "name": "python",
   "nbconvert_exporter": "python",
   "pygments_lexer": "ipython3",
   "version": "3.12.3"
  }
 },
 "nbformat": 4,
 "nbformat_minor": 2
}
