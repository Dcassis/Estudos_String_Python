{
 "cells": [
  {
   "cell_type": "code",
   "execution_count": 17,
   "metadata": {},
   "outputs": [
    {
     "name": "stdout",
     "output_type": "stream",
     "text": [
      "d\n",
      "C\n",
      "m\n",
      "yahoo.com.br\n",
      "Daniel\n",
      "Carvalho\n",
      "24\n"
     ]
    }
   ],
   "source": [
    "email = 'dc.assis@yahoo.com.br'\n",
    "nome = 'Daniel Carvalho de Assis'\n",
    "\n",
    "print(email[0])\n",
    "print(nome[7])\n",
    "print (email[-4]) #pega tudo do fim para o início até o caracter 4( não inclui esse)\n",
    "print(email[9:]) #aqui posso pegar o domínio do email/ pega A PARTIR do índice até o final do texto\n",
    "print(nome[:6]) # o texto todo até o caractere 6 \n",
    "print(nome[7:-9]) #pega a partir do 7 até o -9\n",
    "print(len(nome))"
   ]
  },
  {
   "cell_type": "code",
   "execution_count": 54,
   "metadata": {},
   "outputs": [
    {
     "name": "stdout",
     "output_type": "stream",
     "text": [
      "O tamanho do e-mail 21caracteres\n",
      "Primeiro caracter é: d\n",
      "O útlimo caracter é :r\n",
      "Servidor do e-mail é: yahoo\n",
      "True\n"
     ]
    }
   ],
   "source": [
    "print('O tamanho do e-mail ' + str(len(email)) + 'caracteres')\n",
    "print('Primeiro caracter é: ' + email[0])\n",
    "print(\"O útlimo caracter é :\" + email[-1])\n",
    "print(\"Servidor do e-mail é: \" + email[9:-7])\n",
    "print('yahoo' in 'yahoo.com.br')"
   ]
  },
  {
   "cell_type": "markdown",
   "metadata": {},
   "source": [
    "OPERAÇOES COM STRING_AULA 4_MOD 7.STRING"
   ]
  },
  {
   "cell_type": "code",
   "execution_count": 48,
   "metadata": {},
   "outputs": [],
   "source": [
    "faturamento = 2871\n",
    "custo = 150\n",
    "lucro = faturamento - custo"
   ]
  },
  {
   "cell_type": "markdown",
   "metadata": {},
   "source": [
    "Uso di str() e do concatenar com +"
   ]
  },
  {
   "cell_type": "code",
   "execution_count": 49,
   "metadata": {},
   "outputs": [
    {
     "name": "stdout",
     "output_type": "stream",
     "text": [
      "O faturamento da loja foi de R$: 2871, o custo foi de R$: 150, assim, o lucro foi de R$: 2721\n"
     ]
    }
   ],
   "source": [
    "# Necessário inserir str()\n",
    "print('O faturamento da loja foi de R$: ' + str(faturamento) + \", o custo foi de R$: \" + str(custo) + \", assim, o lucro foi de R$: \" + str(lucro))"
   ]
  },
  {
   "cell_type": "markdown",
   "metadata": {},
   "source": [
    "Uso do .format{}\n",
    "Pode utilizar o índice dentro do {} ou apenas definiar a variável ao final. Caso utilize o índice, é OBRIGATÓRIO utilizar em todos os {}"
   ]
  },
  {
   "cell_type": "code",
   "execution_count": 50,
   "metadata": {},
   "outputs": [
    {
     "name": "stdout",
     "output_type": "stream",
     "text": [
      "O faturamento foi de R$ 2871, o custo foi R$ 150 e o lucro foi R$ 2721. Sendo esse faturamento 2871 o maior do mês\n"
     ]
    }
   ],
   "source": [
    "print('O faturamento foi de R$ {0}, o custo foi R$ {1} e o lucro foi R$ {2}. Sendo esse faturamento {0} o maior do mês' .format(faturamento, custo, lucro)) # SE PRECISAR REPETIR ALGUMA INFORMAÇÃO - COMO FATURAMENTO NO EXEMPLO - UTILIZA O INDICE DENTRO DOS {}. "
   ]
  },
  {
   "cell_type": "markdown",
   "metadata": {},
   "source": [
    "USO DO %s e %d \n",
    "OBS: Utilizado geralmente em versões mais antigas do python, o .format() resolve mais objetivamente.\n",
    "%s converte em uma STRING, %d converte em um NÚMERO"
   ]
  },
  {
   "cell_type": "code",
   "execution_count": 53,
   "metadata": {},
   "outputs": [
    {
     "name": "stdout",
     "output_type": "stream",
     "text": [
      "O faturamento foi R$ 2871\n",
      "O faturamento foi R$ 2871 e o custo foi 150, obtendo um lucro de 2721\n"
     ]
    }
   ],
   "source": [
    "print(\"O faturamento foi R$ %s\" %faturamento)\n",
    "print(\"O faturamento foi R$ %d e o custo foi %d, obtendo um lucro de %d\" %(faturamento, custo, lucro))"
   ]
  }
 ],
 "metadata": {
  "kernelspec": {
   "display_name": ".venv",
   "language": "python",
   "name": "python3"
  },
  "language_info": {
   "codemirror_mode": {
    "name": "ipython",
    "version": 3
   },
   "file_extension": ".py",
   "mimetype": "text/x-python",
   "name": "python",
   "nbconvert_exporter": "python",
   "pygments_lexer": "ipython3",
   "version": "3.12.3"
  }
 },
 "nbformat": 4,
 "nbformat_minor": 2
}
